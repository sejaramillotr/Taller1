{
  "nbformat": 4,
  "nbformat_minor": 0,
  "metadata": {
    "colab": {
      "name": "Taller 2.ipynb",
      "provenance": [],
      "collapsed_sections": [],
      "authorship_tag": "ABX9TyP4uZWXqr4/XCzXBV9sp4hF",
      "include_colab_link": true
    },
    "kernelspec": {
      "name": "python3",
      "display_name": "Python 3"
    },
    "widgets": {
      "application/vnd.jupyter.widget-state+json": {
        "64ffea7eadc348b090a1bca3fff7a4b4": {
          "model_module": "@jupyter-widgets/controls",
          "model_name": "VBoxModel",
          "state": {
            "_view_name": "VBoxView",
            "_dom_classes": [
              "widget-interact"
            ],
            "_model_name": "VBoxModel",
            "_view_module": "@jupyter-widgets/controls",
            "_model_module_version": "1.5.0",
            "_view_count": null,
            "_view_module_version": "1.5.0",
            "box_style": "",
            "layout": "IPY_MODEL_2c7df6105ea5479898dffc0e8bd56132",
            "_model_module": "@jupyter-widgets/controls",
            "children": [
              "IPY_MODEL_eb8ca66b45ca497ca2e19fb98808bdf9",
              "IPY_MODEL_6f4b1c7221ce428c89b099b810c35c4d"
            ]
          }
        },
        "2c7df6105ea5479898dffc0e8bd56132": {
          "model_module": "@jupyter-widgets/base",
          "model_name": "LayoutModel",
          "state": {
            "_view_name": "LayoutView",
            "grid_template_rows": null,
            "right": null,
            "justify_content": null,
            "_view_module": "@jupyter-widgets/base",
            "overflow": null,
            "_model_module_version": "1.2.0",
            "_view_count": null,
            "flex_flow": null,
            "width": null,
            "min_width": null,
            "border": null,
            "align_items": null,
            "bottom": null,
            "_model_module": "@jupyter-widgets/base",
            "top": null,
            "grid_column": null,
            "overflow_y": null,
            "overflow_x": null,
            "grid_auto_flow": null,
            "grid_area": null,
            "grid_template_columns": null,
            "flex": null,
            "_model_name": "LayoutModel",
            "justify_items": null,
            "grid_row": null,
            "max_height": null,
            "align_content": null,
            "visibility": null,
            "align_self": null,
            "height": null,
            "min_height": null,
            "padding": null,
            "grid_auto_rows": null,
            "grid_gap": null,
            "max_width": null,
            "order": null,
            "_view_module_version": "1.2.0",
            "grid_template_areas": null,
            "object_position": null,
            "object_fit": null,
            "grid_auto_columns": null,
            "margin": null,
            "display": null,
            "left": null
          }
        },
        "eb8ca66b45ca497ca2e19fb98808bdf9": {
          "model_module": "@jupyter-widgets/controls",
          "model_name": "IntSliderModel",
          "state": {
            "_view_name": "IntSliderView",
            "style": "IPY_MODEL_7a03423f15464fa3b9300de1fe5ce595",
            "_dom_classes": [],
            "description": "Na",
            "step": 1,
            "_model_name": "IntSliderModel",
            "orientation": "horizontal",
            "max": 2,
            "_view_module": "@jupyter-widgets/controls",
            "_model_module_version": "1.5.0",
            "value": 2,
            "_view_count": null,
            "disabled": false,
            "_view_module_version": "1.5.0",
            "min": 1,
            "continuous_update": true,
            "readout_format": "d",
            "description_tooltip": null,
            "readout": true,
            "_model_module": "@jupyter-widgets/controls",
            "layout": "IPY_MODEL_1d3ef7847f624566b8f7573d0e93d488"
          }
        },
        "6f4b1c7221ce428c89b099b810c35c4d": {
          "model_module": "@jupyter-widgets/output",
          "model_name": "OutputModel",
          "state": {
            "_view_name": "OutputView",
            "msg_id": "",
            "_dom_classes": [],
            "_model_name": "OutputModel",
            "outputs": [
              {
                "output_type": "display_data",
                "metadata": {
                  "tags": [],
                  "needs_background": "light"
                },
                "image/png": "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\n",
                "text/plain": "<Figure size 432x288 with 1 Axes>"
              }
            ],
            "_view_module": "@jupyter-widgets/output",
            "_model_module_version": "1.0.0",
            "_view_count": null,
            "_view_module_version": "1.0.0",
            "layout": "IPY_MODEL_2d967196973b4d5e9bdf0b188f37c3ef",
            "_model_module": "@jupyter-widgets/output"
          }
        },
        "7a03423f15464fa3b9300de1fe5ce595": {
          "model_module": "@jupyter-widgets/controls",
          "model_name": "SliderStyleModel",
          "state": {
            "_view_name": "StyleView",
            "handle_color": null,
            "_model_name": "SliderStyleModel",
            "description_width": "",
            "_view_module": "@jupyter-widgets/base",
            "_model_module_version": "1.5.0",
            "_view_count": null,
            "_view_module_version": "1.2.0",
            "_model_module": "@jupyter-widgets/controls"
          }
        },
        "1d3ef7847f624566b8f7573d0e93d488": {
          "model_module": "@jupyter-widgets/base",
          "model_name": "LayoutModel",
          "state": {
            "_view_name": "LayoutView",
            "grid_template_rows": null,
            "right": null,
            "justify_content": null,
            "_view_module": "@jupyter-widgets/base",
            "overflow": null,
            "_model_module_version": "1.2.0",
            "_view_count": null,
            "flex_flow": null,
            "width": null,
            "min_width": null,
            "border": null,
            "align_items": null,
            "bottom": null,
            "_model_module": "@jupyter-widgets/base",
            "top": null,
            "grid_column": null,
            "overflow_y": null,
            "overflow_x": null,
            "grid_auto_flow": null,
            "grid_area": null,
            "grid_template_columns": null,
            "flex": null,
            "_model_name": "LayoutModel",
            "justify_items": null,
            "grid_row": null,
            "max_height": null,
            "align_content": null,
            "visibility": null,
            "align_self": null,
            "height": null,
            "min_height": null,
            "padding": null,
            "grid_auto_rows": null,
            "grid_gap": null,
            "max_width": null,
            "order": null,
            "_view_module_version": "1.2.0",
            "grid_template_areas": null,
            "object_position": null,
            "object_fit": null,
            "grid_auto_columns": null,
            "margin": null,
            "display": null,
            "left": null
          }
        },
        "2d967196973b4d5e9bdf0b188f37c3ef": {
          "model_module": "@jupyter-widgets/base",
          "model_name": "LayoutModel",
          "state": {
            "_view_name": "LayoutView",
            "grid_template_rows": null,
            "right": null,
            "justify_content": null,
            "_view_module": "@jupyter-widgets/base",
            "overflow": null,
            "_model_module_version": "1.2.0",
            "_view_count": null,
            "flex_flow": null,
            "width": null,
            "min_width": null,
            "border": null,
            "align_items": null,
            "bottom": null,
            "_model_module": "@jupyter-widgets/base",
            "top": null,
            "grid_column": null,
            "overflow_y": null,
            "overflow_x": null,
            "grid_auto_flow": null,
            "grid_area": null,
            "grid_template_columns": null,
            "flex": null,
            "_model_name": "LayoutModel",
            "justify_items": null,
            "grid_row": null,
            "max_height": null,
            "align_content": null,
            "visibility": null,
            "align_self": null,
            "height": null,
            "min_height": null,
            "padding": null,
            "grid_auto_rows": null,
            "grid_gap": null,
            "max_width": null,
            "order": null,
            "_view_module_version": "1.2.0",
            "grid_template_areas": null,
            "object_position": null,
            "object_fit": null,
            "grid_auto_columns": null,
            "margin": null,
            "display": null,
            "left": null
          }
        }
      }
    }
  },
  "cells": [
    {
      "cell_type": "markdown",
      "metadata": {
        "id": "view-in-github",
        "colab_type": "text"
      },
      "source": [
        "<a href=\"https://colab.research.google.com/github/sejaramillotr/Taller1/blob/master/Taller_2.ipynb\" target=\"_parent\"><img src=\"https://colab.research.google.com/assets/colab-badge.svg\" alt=\"Open In Colab\"/></a>"
      ]
    },
    {
      "cell_type": "markdown",
      "metadata": {
        "id": "r4xoJ7KO2tLz",
        "colab_type": "text"
      },
      "source": [
        "#Sebastián Jaramillo Trujillo\n",
        "#Código 1015525\n",
        "#Señales y Sistemas\n",
        "# Taller 2\n",
        "#2. Representación Generalizada.\n",
        "1. Encuentre el valor de $\\omega_0 \\in \\mathbb{R}$ para que el conjunto {$e^{jn\\omega_0t}$}$_{n\\in \\mathbb{Z}}$ sea ortogonal en el intervalo $t\\in[−T/2, T/2]$, con $T\\in \\mathbb{R}^+$.\n",
        "##Solución\n",
        "Para que $\\phi(t)=e^{jn\\omega_0t}$ sea ortogonal, si se tienen dos $n,m : n= m$\n",
        "\\begin{equation}\n",
        "\\int_{-T/2}^{T/2}\\phi(t)\\phi^*(t)=0\\\\\n",
        "\\int_{-T/2}^{T/2}e^{jn\\omega_0t-jn\\omega_0t}=\\int_{-T/2}^{T/2}e^0=\\int_{-T/2}^{T/2}1=\\frac{T}{2}-\\frac{-T}{2}=T\\\\\n",
        "\\end{equation}\n",
        "Sin distinción del valor de $\\omega_0$. Y si $n\\neq m$\n",
        "\\begin{equation}\n",
        "\\int_{-T/2}^{T/2}\\phi(t)\\phi^*(t)dt=\\int_{-T/2}^{T/2}e^{jn\\omega_0t}e^{-jm\\omega_0t}dt=\\int_{-T/2}^{T/2}e^{j(n-m)\\omega_0t}dt\\\\\n",
        "r=n-m\\Rightarrow n,m\\in \\mathbb {Z} \\Rightarrow n-m\\in \\mathbb{Z}\\\\\n",
        "\\frac{1}{jr\\omega_0}(e^{jr\\omega_0t})\\biggr\\vert_{-T/2}^{T/2}=\\frac{1}{jr\\omega_0}(e^{jr\\omega_0\\frac{T}{2}}-e^{jr\\omega_0\\frac{-T}{2}})=0\\\\\n",
        "e^{jr\\omega_0\\frac{T}{2}}-e^{jr\\omega_0\\frac{-T}{2}}=\\cos(r\\omega_0\\frac{T}{2})+j\\sin(r\\omega_0\\frac{T}{2})-\\cos(r\\omega_0\\frac{-T}{2})-j\\sin(r\\omega_0\\frac{-T}{2})\\\\\n",
        "\\cos(x)-\\cos(-x)=0;\\sin(x)-\\sin(-x)=2\\sin(x)\\\\\n",
        "e^{jr\\omega_0\\frac{T}{2}}-e^{jr\\omega_0\\frac{-T}{2}}=2j\\sin(r\\omega_0\\frac{T}{2})=0\n",
        "\\end{equation}\n",
        "Para que $\\sin(x)=0$ entonces debe ser de la forma $x=k\\pi$,por lo tanto $r\\omega_0\\frac{T}{2}=k\\pi\\rightarrow\\omega=\\frac{2\\pi}{T}$ para que cancele la T del período y solo quede $2j\\sin(r\\frac{2\\pi}{T}\\frac{T}{2})=2j\\sin(r\\pi)=0$\n",
        "\\begin{equation}\n",
        "\\phi(t) = \\begin{cases} 0, & n\\neq m \\\\ T, & n=m \\end{cases}\n",
        "\\end{equation}"
      ]
    },
    {
      "cell_type": "markdown",
      "metadata": {
        "id": "NEFv2YVvO2gN",
        "colab_type": "text"
      },
      "source": [
        "2. Demuestre la ortogonalidad del conjunto {$\\cos(nω_ot),\\sin(mω_ot)$}$_{n,m\\in \\mathbb{Z}}$.\n",
        "##Solución\n",
        "\\begin{equation}\n",
        "(\\cos(nω_ot),\\sin(mω_ot))=\\int_{-\\infty}^\\infty\\cos(nω_ot)\\sin(mω_ot)dt\\\\\n",
        "\\int_{-\\infty}^\\infty\\biggr[\\frac{\\sin[(n+m)ω_ot]}{2}+\\frac{\\sin[(n-m)ω_ot]}{2}\\biggr]dt=\\frac{-\\cos[(n+m)ω_ot]}{2(n+m)ω_o}+\\frac{-\\cos[(n-m)ω_ot]}{2(n-m)ω_o}\\biggr \\vert_{-\\infty}^\\infty\\\\\n",
        "\\biggr[\\frac{\\cos[(n+m)ω_o(-\\infty)]}{2(n+m)ω_o}-\\frac{\\cos[(n+m)ω_o\\infty]}{2(n+m)ω_o}\\biggr]+\\biggr[\\frac{\\cos[(n-m)ω_o(-\\infty)]}{2(n-m)ω_o}-\\frac{\\cos[(n-m)ω_o\\infty]}{2(n-m)ω_o}\\biggr]\\\\\n",
        "\\cos(\\alpha)=\\cos(-\\alpha)\\Rightarrow\\cos(\\alpha)-\\cos(-\\alpha)=0\\\\\n",
        "(\\cos(nω_ot),\\sin(mω_ot))=\\int_{-\\infty}^\\infty\\cos(nω_ot)\\sin(mω_ot)dt=0\\\\\n",
        "\\end{equation}\n",
        "Por lo tanto $\\cos(nω_ot),\\sin(mω_ot)$ son ortogonales."
      ]
    },
    {
      "cell_type": "markdown",
      "metadata": {
        "id": "DidIpAkkO2z6",
        "colab_type": "text"
      },
      "source": [
        "3. Encuentre el espectro $c_n\\in \\mathbb{C}$ de la señal $x(t)=u(t)$ a traves\n",
        "de la representacion generalizada $x(t)=\\sum_{n=−\\infty}^\\infty c_n\\phi_n(t)$, para $\\phi_n(t)=e^{jn\\omega_0t}$. Realice una simulacion en Python para $t \\in [0, 2]$ y determine el error relativo para $n \\in \\{0, ±1, ±2\\}$. \n",
        "##Solución\n",
        "Para esta representació específica tenemos que \n",
        "\\begin{equation}\n",
        "C_n=\\frac{1}{T}\\int^{T}_{0}x(t)\\phi(t)dt=\\frac{1}{T}\\int^{T}_{0}u(t)e^{jn\\omega_0t}dt=\\frac{1}{T}\\int^{T}_{0}e^{jn\\omega_0t}dt\\\\\n",
        "\\frac{1}{Tjn\\omega_0}(e^{jn\\omega_0t})\\biggr\\vert^{T}_{0}=\\frac{1}{Tjn\\omega_0}(e^{jn\\omega_0T}-e^0)\\Leftrightarrow \\omega_0=\\frac{2\\pi}{T}\\Leftrightarrow \\frac{1}{Tjn\\frac{2\\pi}{T}}(e^{jn\\frac{2\\pi}{T}T}-e^0)\\\\\n",
        "\\frac{1}{2jn\\pi}(e^{jn2\\pi}-1)=\\frac{1}{2jn\\pi}(\\cos(2n\\pi)-j\\sin(2n\\pi)-1)=\\frac{1}{2jn\\pi}(1-0-1)\\\\\n",
        "Cn=0\\quad \\forall n\\neq 0\\\\\n",
        "\\&\\\\\n",
        "c_0 = \\frac{1}{T}\\int^{T/2}_{-T/2}{x(t)}dt=1\n",
        "\\end{equation}\n",
        "\\end{equation}\n",
        "\n",
        "El error cuadrático medio de la representación generalizada de Fourier se define como:\n",
        "\\begin{equation}\n",
        "E^2(c_n) = \\frac{1}{T}\\int^{T}_{0}{\\left|x(t)-\\sum_{n=-N}^{N}{c_n \\varphi_n(t)}\\right|^2dt},\n",
        "\\end{equation}\n",
        "\n",
        "El error relativo se puede definir entonces como:\n",
        "\n",
        "\\begin{equation}\n",
        "E_r[\\%] = \\frac{E^2(c_n)}{P_x} = 1 - \\sum\\limits_{n=-N}^N{|c_n|^2 P_n/P_x},\n",
        "\\end{equation}\n",
        "\n",
        "\\begin{equation}\n",
        "P_x = \\int^{T}_{0}{|x(t)^2|dt}=2, \\quad P_n = \\int^{T}_{0}{|\\varphi_n(t)^2|dt}=2.\n",
        "\\end{equation}"
      ]
    },
    {
      "cell_type": "code",
      "metadata": {
        "id": "s5Ndx4LVUEFP",
        "colab_type": "code",
        "outputId": "ef2e8785-dd85-4ccf-94b8-0f1a76b6a359",
        "colab": {
          "base_uri": "https://localhost:8080/",
          "height": 304
        }
      },
      "source": [
        "%matplotlib inline\n",
        "import matplotlib as mpl\n",
        "import matplotlib.pyplot as plt\n",
        "import numpy as np\n",
        "import warnings\n",
        "warnings.filterwarnings(\"ignore\")\n",
        "\n",
        "mpl.rc('axes', labelsize=14)\n",
        "mpl.rc('xtick', labelsize=12)\n",
        "mpl.rc('ytick', labelsize=12)\n",
        "\n",
        "T = 2 #2 segundos de grafica\n",
        "Fs = 500 # 1000 muestras por segundo Ajustar según señal estudiada\n",
        "Nm = T*Fs #numero de muestras requeridas\n",
        "tv = np.linspace(0,T,Nm)\n",
        "\n",
        "xo = np.ones(int(Nm))\n",
        "\n",
        "plt.plot(tv,xo,'r',linewidth=4)\n",
        "plt.grid()\n",
        "plt.xlabel(\"t[s]\",fontsize = 14)\n",
        "plt.ylabel(\"x(t)\",fontsize = 14)\n"
      ],
      "execution_count": 0,
      "outputs": [
        {
          "output_type": "execute_result",
          "data": {
            "text/plain": [
              "Text(0, 0.5, 'x(t)')"
            ]
          },
          "metadata": {
            "tags": []
          },
          "execution_count": 9
        },
        {
          "output_type": "display_data",
          "data": {
            "image/png": "[encoded data removed]",
            "text/plain": [
              "<Figure size 432x288 with 1 Axes>"
            ]
          },
          "metadata": {
            "tags": [],
            "needs_background": "light"
          }
        }
      ]
    },
    {
      "cell_type": "code",
      "metadata": {
        "id": "8FPMsC7uEoHi",
        "colab_type": "code",
        "colab": {}
      },
      "source": [
        "\n",
        "N = 2 #numero armonicos\n",
        "wo = 2*np.pi/T # frecuencia fundamental\n",
        "# %% definir bases\n",
        "phin = np.zeros((Nm,2*N+1),dtype=np.complex_)\n",
        "for n in range(-N,N+1,1):\n",
        "    phin[:,n+N] = np.exp(1j*n*wo*tv)"
      ],
      "execution_count": 0,
      "outputs": []
    },
    {
      "cell_type": "code",
      "metadata": {
        "id": "cPJrvFz1Hwzf",
        "colab_type": "code",
        "colab": {}
      },
      "source": [
        "#cn = np.zeros(2*N+1,dtype=np.complex_)\n",
        "nv = np.linspace(-N, N, 2*N+1) #vector num armónicos\n",
        "Cn = np.zeros(int(2*N+1))\n",
        "Cn[N]=1"
      ],
      "execution_count": 0,
      "outputs": []
    },
    {
      "cell_type": "code",
      "metadata": {
        "id": "mTSOmHjbEv5E",
        "colab_type": "code",
        "outputId": "6c1c5bc0-892d-46c2-e6d1-7b2924a77470",
        "colab": {
          "base_uri": "https://localhost:8080/",
          "height": 605,
          "referenced_widgets": [
            "64ffea7eadc348b090a1bca3fff7a4b4",
            "2c7df6105ea5479898dffc0e8bd56132",
            "eb8ca66b45ca497ca2e19fb98808bdf9",
            "6f4b1c7221ce428c89b099b810c35c4d",
            "7a03423f15464fa3b9300de1fe5ce595",
            "1d3ef7847f624566b8f7573d0e93d488",
            "2d967196973b4d5e9bdf0b188f37c3ef"
          ]
        }
      },
      "source": [
        "from ipywidgets import interact,IntSlider\n",
        "Pn = 2\n",
        "Px = 2 # estimar según señal estudiada\n",
        "def pltest(Na=1):\n",
        "    ind = range(N-Na,N+Na+1)\n",
        "    er = 1- (abs(Cn[N])**2 + 2*np.sum((abs(Cn[N:N+Na+1])**2)*Pn))/Px\n",
        "    xe = phin[:,ind]@ Cn[ind] \n",
        "    plt.plot(tv,xe,color='b',label='xe')\n",
        "    plt.plot(tv,xo,color='r',label='x')\n",
        "    plt.title('Er=%.2f[%%]' % (100*er),fontsize=16)\n",
        "    plt.xlabel('t[s]')\n",
        "    plt.ylabel('x(t)')\n",
        "    plt.grid()\n",
        "    plt.legend()\n",
        "    plt.show()\n",
        "    return\n",
        "interact(pltest,Na=(1,N,1))\n",
        "X = phin @ Cn  #producto matricial para calcular componentes espectrales phin.dot(Cn)\n",
        "et=xo-X\n",
        "plt.plot(tv,X,label = '$\\hat{x}(t)$')\n",
        "plt.plot(tv,xo,label = '$x(t)$')\n",
        "plt.plot(tv,et,label = '$e(t)$')\n",
        "plt.grid()\n",
        "plt.legend()\n"
      ],
      "execution_count": 0,
      "outputs": [
        {
          "output_type": "display_data",
          "data": {
            "application/vnd.jupyter.widget-view+json": {
              "model_id": "64ffea7eadc348b090a1bca3fff7a4b4",
              "version_minor": 0,
              "version_major": 2
            },
            "text/plain": [
              "interactive(children=(IntSlider(value=1, description='Na', max=2, min=1), Output()), _dom_classes=('widget-int…"
            ]
          },
          "metadata": {
            "tags": []
          }
        },
        {
          "output_type": "execute_result",
          "data": {
            "text/plain": [
              "<matplotlib.legend.Legend at 0x7f6748a241d0>"
            ]
          },
          "metadata": {
            "tags": []
          },
          "execution_count": 76
        },
        {
          "output_type": "display_data",
          "data": {
            "image/png": "[encoded data removed]",
            "text/plain": [
              "<Figure size 432x288 with 1 Axes>"
            ]
          },
          "metadata": {
            "tags": [],
            "needs_background": "light"
          }
        }
      ]
    },
    {
      "cell_type": "code",
      "metadata": {
        "id": "hEwZiCRHEyCU",
        "colab_type": "code",
        "outputId": "bae7695b-913b-4592-e577-b398095cd026",
        "colab": {
          "base_uri": "https://localhost:8080/",
          "height": 585
        }
      },
      "source": [
        "fig = plt.figure(figsize=(4,8))\n",
        "plt.subplot(3,1,1)\n",
        "plt.stem(nv, np.real(Cn), 'r')\n",
        "plt.title(r'Re{Cn}')\n",
        "plt.xlabel(r'$nw_o$[rad/s]',fontsize = 14)\n",
        "plt.ylabel(r'$Re\\{C_n\\}$',fontsize = 14)\n",
        "plt.axis('tight')\n",
        "plt.grid()\n",
        "\n",
        "plt.subplot(3,1,2)\n",
        "plt.stem(nv, np.imag(Cn), 'r')\n",
        "plt.title(r'Im{Cn}')\n",
        "plt.xlabel(r'$nw_o$[rad/s]',fontsize = 14)\n",
        "plt.ylabel(r'$Im\\{C_n\\}$',fontsize = 14)\n",
        "plt.axis('tight')\n",
        "plt.grid()\n",
        "\n",
        "plt.subplot(3,1,3)\n",
        "plt.stem(nv, abs(Cn), 'r')\n",
        "plt.title(r'|Cn|')\n",
        "plt.xlabel(r'$nw_o$[rad/s]',fontsize = 14)\n",
        "plt.ylabel(r'$|C_n|$',fontsize = 14)\n",
        "plt.axis('tight')\n",
        "plt.grid()\n",
        "\n",
        "fig.tight_layout()"
      ],
      "execution_count": 0,
      "outputs": [
        {
          "output_type": "display_data",
          "data": {
            "image/png": "[encoded data removed]",
            "text/plain": [
              "<Figure size 288x576 with 3 Axes>"
            ]
          },
          "metadata": {
            "tags": [],
            "needs_background": "light"
          }
        }
      ]
    },
    {
      "cell_type": "markdown",
      "metadata": {
        "id": "qdQjli5bO8Rg",
        "colab_type": "text"
      },
      "source": [
        "#3. Concéptos básicos de señales.\n",
        "1. Calcular los coeficientes de la serie compleja, trignométrica y compacta de Fourier para las siguientes funciones, con $t\\in[−π, π]$:\\\n",
        "a) $t$\\\n",
        "b) $\\vert\\sin(t)\\vert$\\\n",
        "c) $sgn(t)$\\\n",
        "d) $\\vert\\cos^2(t/2)\\vert$\\\n",
        "e) $e^{jt/2}$\\\n",
        "f) $t^2$\\\n",
        "Para cada señal representada encuentre el error relativo para $n\\in\\{0,\\pm1, \\pm2,\\dots,\\pm5\\}$. Implemente las simulaciones en Python para graficar la parte real del espectro, la parte imaginaria del espectro, la magnitud del espectro, la fase del espectro y la señal reconstruida.\n",
        "##Solución\n",
        "El espectro en serie de Fourier (compleja) se calcula como:\n",
        "\n",
        "\\begin{equation}\n",
        "c_n = \\frac{1}{T}\\int^{T/2}_{-T/2}{x(t)e^{-jn\\omega_o t}}dt;\\quad\\forall n\\neq0\\\\\n",
        "\\&\\\\\n",
        "c_0 = \\frac{1}{T}\\int^{T/2}_{-T/2}{x(t)}dt=0\n",
        "\\end{equation}\n",
        "\n",
        "y su función calculada:\n",
        "\n",
        "\\begin{equation}\n",
        "\\hat{x}(t) = \\sum\\limits_{n=-N}^N{c_n e^{jn\\omega_ot}}.\n",
        "\\end{equation}\n",
        "\n",
        "El espectro en serie de Fourier (trigonométrica) se calcula como:\n",
        "\n",
        "\\begin{equation}\n",
        "a_n = \\frac{2}{T}\\int^{T/2}_{-T/2}{x(t)\\cos(n\\omega_o t)}dt=2\\mathcal{Re}\\{c_n\\}; \\quad \\forall n > 0\n",
        "\\end{equation}\n",
        "\\begin{equation}\n",
        "a_0 = c_0 = 0.\n",
        "\\end{equation}\n",
        "\n",
        "\\begin{equation}\n",
        "b_n = \\frac{2}{T}\\int^{T/2}_{-T/2}{x(t)\\sin(n\\omega_o t)}dt=-2\\mathcal{Im}\\{c_n\\}; \\quad\\forall n > 0\n",
        "\\end{equation}\n",
        "\\begin{equation}\n",
        "b_0 = 0.\n",
        "\\end{equation}\n",
        "\n",
        "y su función calculada:\n",
        "\n",
        "\\begin{equation}\n",
        "\\hat{x}(t) = a_0+\\sum\\limits_{n=1}^N{[a_n \\cos(n\\omega_ot)+b_n\\sin{n\\omega_ot}]}\n",
        "\\end{equation}\n",
        "\n",
        "Los pesos la serie exponencial se pueden estimar a partir de la serie trigonométrica según la siguientes relación:\n",
        "\n",
        "\\begin{equation}\n",
        "c_n = \\frac{a_n - jb_n}{2}, \\quad n\\neq 0\\\\\n",
        "c_0 = a_0.\n",
        "\\end{equation}\n",
        "\n",
        "Por otra parte, su espectro en serie de Fourier compacta se calcula como:\n",
        "\n",
        "\\begin{equation}\n",
        "d_n = \\sqrt{a_n^2+b_n^2} = 2|c_n| ; \\quad n > 0\n",
        "\\end{equation}\n",
        "\\begin{equation}\n",
        "d_0 = a_0;  \n",
        "\\end{equation}\n",
        "\n",
        "\\begin{equation}\n",
        "\\phi_n = \\tan^{-1}\\left(\\frac{\\mathcal{Im}\\{c_n\\}}{\\mathcal{Re}\\{c_n\\}}\\right) = \\tan^{-1}\\left(\\frac{-b_n}{a_n}\\right); \\quad n \\geq 0\n",
        "\\end{equation}\n",
        "\n",
        "y su función calculada:\n",
        "\n",
        "\\begin{equation}\n",
        "\\hat{x}(t) = \\sum\\limits_{n=0}^N{d_n \\cos(n\\omega_ot+\\phi_n)}.\n",
        "\\end{equation}\n",
        "\n",
        "###a) $x(t)=t$\n",
        "\n",
        "Compleja.\n",
        "\\begin{equation}\n",
        "c_n = \\frac{1}{2\\pi}\\int^{\\pi}_{-\\pi}{te^{-jn\\omega_o t}}dt=(-1)^n\\frac{j}{n};\\quad\\forall n\\neq0\\\\\n",
        "\\&\\\\\n",
        "c_0 = \\frac{1}{2\\pi}\\int^{\\pi}_{-\\pi}tdt=\\frac{t^2}{4\\pi}\\biggr\\vert^{\\pi}_{-\\pi}=0\n",
        "\\end{equation}\n",
        "\n",
        "Trigonométrica.\n",
        "\\begin{equation}\n",
        "a_n = \\frac{2}{2\\pi}\\int^{\\pi}_{-\\pi}{t\\cos(n\\omega_o t)}dt=0; \\quad \\forall n > 0\n",
        "\\end{equation}\n",
        "\\begin{equation}\n",
        "a_0 = c_0 = 0.\n",
        "\\end{equation}\n",
        "\n",
        "\\begin{equation}\n",
        "b_n = \\frac{2}{2\\pi}\\int^{\\pi}_{-\\pi}{t\\sin(n\\omega_o t)}dt=\\frac{[\\sin(n\\pi)-n\\pi\\cos(n\\pi)]}{n^2\\pi}=\\frac{2}{n}(-1)^{n+1}; \\quad\\forall n > 0\\\\\n",
        "b_0 = 0.\n",
        "\\end{equation}\n",
        "\n",
        "Compacta.\n",
        "\\begin{equation}\n",
        "d_n = \\sqrt{a_n^2+b_n^2} = 2|c_n| = \\frac{2}{n}; \\quad n > 0\n",
        "\\end{equation}\n",
        "\\begin{equation}\n",
        "d_0 = a_0=0;  \n",
        "\\end{equation}\n",
        "\n",
        "\\begin{equation}\n",
        "\\phi_n = \\tan^{-1}\\biggr(\\frac{-b_n}{a_n}\\biggr)=\\tan^{-1}\\biggr(\\frac{-b_n}{0}\\biggr)=\\tan^{-1}((-1)^n\\infty)=(-1)^n90; \\quad n \\geq 0\n",
        "\\end{equation}\n",
        "\n",
        "Error.\n",
        "\\begin{equation}\n",
        "\\frac{E_r[\\%]}{100}=1-\\biggr(\\frac{C_0}{P_x}+\\frac{2P_n}{P_x}\\sum^5_{n=1}\\vert C_n\\vert\\biggr)\\\\\n",
        "P_x = \\int^{\\pi}_{-\\pi}{|t^2|dt}=\\frac{2\\pi^3}{3}, \\quad P_n = \\int^{\\pi}_{-\\pi}{|\\varphi_n(t)|^2dt}=T=2\\pi\\\\\n",
        "\\frac{E_r[\\%]}{100}=1-\\frac{2P_n}{P_x}\\sum^5_{n=1}\\frac{1}{n^2}\\\\\n",
        "\\sum^5_{n=1}\\frac{1}{n^2}=1.463611111\\\\\n",
        "E_r[\\%]=\\biggr(1-\\frac{12\\pi}{2\\pi^3}(1.463611111)\\biggr)*100=11.02\\%\\\\\n",
        "\\end{equation}"
      ]
    },
    {
      "cell_type": "code",
      "metadata": {
        "id": "IPRZTOxZNSpT",
        "colab_type": "code",
        "outputId": "89a00a5e-96e3-4834-c870-76aef2e4600a",
        "colab": {
          "base_uri": "https://localhost:8080/",
          "height": 304
        }
      },
      "source": [
        "%matplotlib inline\n",
        "import matplotlib as mpl\n",
        "import matplotlib.pyplot as plt\n",
        "import numpy as np\n",
        "import warnings\n",
        "warnings.filterwarnings(\"ignore\")\n",
        "\n",
        "mpl.rc('axes', labelsize=14)\n",
        "mpl.rc('xtick', labelsize=12)\n",
        "mpl.rc('ytick', labelsize=12)\n",
        "\n",
        "T = 2*np.pi #2 segundos de grafica\n",
        "Fs = 500 # 1000 muestras por segundo Ajustar según señal estudiada\n",
        "Nm = T*Fs #numero de muestras requeridas\n",
        "L = 2*Nm+1\n",
        "Li = int(L+1)\n",
        "tv = np.arange(-T/2,T/2,T/L)\n",
        "x = tv\n",
        "\n",
        "plt.plot(tv,x,'r',linewidth=4)\n",
        "plt.grid()\n",
        "plt.xlabel(\"t[s]\",fontsize = 14)\n",
        "plt.ylabel(\"x(t)\",fontsize = 14)\n"
      ],
      "execution_count": 0,
      "outputs": [
        {
          "output_type": "execute_result",
          "data": {
            "text/plain": [
              "Text(0, 0.5, 'x(t)')"
            ]
          },
          "metadata": {
            "tags": []
          },
          "execution_count": 10
        },
        {
          "output_type": "display_data",
          "data": {
            "image/png": "[encoded data removed]",
            "text/plain": [
              "<Figure size 432x288 with 1 Axes>"
            ]
          },
          "metadata": {
            "tags": [],
            "needs_background": "light"
          }
        }
      ]
    },
    {
      "cell_type": "code",
      "metadata": {
        "id": "gTuPLJggNS9S",
        "colab_type": "code",
        "colab": {}
      },
      "source": [
        "N = 5 #numero armonicos\n",
        "wo = 2*np.pi/T # frecuencia fundamental\n",
        "# %% definir bases\n",
        "cn = np.zeros(2*N+1,dtype=np.complex_)\n",
        "nv = np.linspace(-N, N, 2*N+1) #vector num armónicos\n",
        "Cn = (1j)*(-1)**nv/(nv)\n",
        "Cn[N] = 0\n",
        "phin = np.zeros((Li,2*N+1),dtype=np.complex_)\n",
        "for n in range(-N,N+1,1):\n",
        "    phin[:,n+N] = np.exp(1j*n*wo*tv)"
      ],
      "execution_count": 0,
      "outputs": []
    },
    {
      "cell_type": "code",
      "metadata": {
        "id": "aAZ15AsEdwyN",
        "colab_type": "code",
        "outputId": "68b77803-c6c4-4703-bc25-a418e7b76566",
        "colab": {
          "base_uri": "https://localhost:8080/",
          "height": 286
        }
      },
      "source": [
        "X = phin @ Cn  #producto matricial para calcular componentes espectrales phin.dot(Cn)\n",
        "plt.plot(tv,X,label = '$\\hat{x}(t)$')\n",
        "plt.plot(tv,x,label = '$x(t)$')\n",
        "plt.plot(tv,x-X,label = '$e(t)$')\n",
        "plt.grid()\n",
        "plt.legend()"
      ],
      "execution_count": 0,
      "outputs": [
        {
          "output_type": "execute_result",
          "data": {
            "text/plain": [
              "<matplotlib.legend.Legend at 0x7fe5d21f9eb8>"
            ]
          },
          "metadata": {
            "tags": []
          },
          "execution_count": 12
        },
        {
          "output_type": "display_data",
          "data": {
            "image/png": "[encoded data removed]",
            "text/plain": [
              "<Figure size 432x288 with 1 Axes>"
            ]
          },
          "metadata": {
            "tags": [],
            "needs_background": "light"
          }
        }
      ]
    },
    {
      "cell_type": "code",
      "metadata": {
        "id": "Eb16lhxMNTYE",
        "colab_type": "code",
        "outputId": "6aa73fec-96c7-4d39-81a6-eb090ede938a",
        "colab": {
          "base_uri": "https://localhost:8080/",
          "height": 585
        }
      },
      "source": [
        "fig = plt.figure(figsize=(4,8))\n",
        "plt.subplot(4,1,1)\n",
        "plt.stem(nv, np.real(Cn), 'r')\n",
        "plt.title(r'Re{Cn}')\n",
        "plt.xlabel(r'$nw_o$[rad/s]',fontsize = 14)\n",
        "plt.ylabel(r'$Re\\{C_n\\}$',fontsize = 14)\n",
        "plt.axis('tight')\n",
        "plt.grid()\n",
        "\n",
        "plt.subplot(4,1,2)\n",
        "plt.stem(nv, np.imag(Cn), 'r')\n",
        "plt.title(r'Im{Cn}')\n",
        "plt.xlabel(r'$nw_o$[rad/s]',fontsize = 14)\n",
        "plt.ylabel(r'$Im\\{C_n\\}$',fontsize = 14)\n",
        "plt.axis('tight')\n",
        "plt.grid()\n",
        "\n",
        "plt.subplot(4,1,3)\n",
        "plt.stem(nv, abs(Cn), 'r')\n",
        "plt.title(r'|Cn|')\n",
        "plt.xlabel(r'$nw_o$[rad/s]',fontsize = 14)\n",
        "plt.ylabel(r'$|C_n|$',fontsize = 14)\n",
        "plt.axis('tight')\n",
        "plt.grid()\n",
        "\n",
        "plt.subplot(4,1,4)\n",
        "plt.stem(nv, np.arctan(-np.imag(Cn)/np.fabs(np.real(Cn))), 'r')\n",
        "plt.title(r'|Cn|')\n",
        "plt.xlabel(r'$nw_o$[rad/s]',fontsize = 14)\n",
        "plt.ylabel(r'$|C_n|$',fontsize = 14)\n",
        "plt.axis('tight')\n",
        "plt.grid()\n",
        "\n",
        "fig.tight_layout()"
      ],
      "execution_count": 0,
      "outputs": [
        {
          "output_type": "display_data",
          "data": {
            "image/png": "[encoded data removed]",
            "text/plain": [
              "<Figure size 288x576 with 4 Axes>"
            ]
          },
          "metadata": {
            "tags": [],
            "needs_background": "light"
          }
        }
      ]
    },
    {
      "cell_type": "markdown",
      "metadata": {
        "id": "ZGXMGYXCD_Ez",
        "colab_type": "text"
      },
      "source": [
        "###b) $x(t)=\\vert\\sin(t)\\vert$\n",
        "Esta señal es par. Tiene por lo tanto simetría par, sobre el eje y.\\\n",
        "Compleja.\n",
        "\\begin{equation}\n",
        "C_n = \\frac{1}{2\\pi}\\int^{\\pi}_{-\\pi}{\\vert\\sin(t)\\vert e^{-jn\\omega_o t}}dt=\\frac{\\cos(n\\pi)+1}{\\pi(1-n^2)}=\\frac{(-1)^n+1}{\\pi(1-n^2)};\\quad\\forall n\\neq-1,1\\\\\n",
        "\\&\\\\\n",
        "C_{(-1,1)} = \\lim_{n\\rightarrow(-1,1)}\\frac{(-1)^n+1}{\\pi(1-n^2)}=\\frac{0}{0}\\\\\n",
        "\\lim_{n\\rightarrow(-1,1)}\\frac{\\frac{\\partial}{\\partial n}(\\cos(n\\pi)+1)}{\\frac{\\partial}{\\partial n}(\\pi-\\pi n^2)}=\\lim_{n\\rightarrow(-1,1)}\\frac{-\\pi\\sin(n\\pi)}{-2\\pi n}=\\lim_{n\\rightarrow(-1,1)}\\frac{\\sin(n\\pi)}{2n}=0\\\\\n",
        "C_1=C_{-1}=0\n",
        "\\end{equation}\n",
        "\n",
        "Trigonométrica.\n",
        "\\begin{equation}\n",
        "a_n = \\frac{2}{2\\pi}\\int^{\\pi}_{-\\pi}{\\vert\\sin(t)\\vert\\cos(n\\omega_o t)}dt=\\frac{2}{\\pi}\\int^{\\pi}_{0}{\\sin(t)\\cos(n\\omega_o t)}dt=\\frac{2((-1)^n-1)}{\\pi(n^2-1)}; \\quad \\forall n > 0\n",
        "\\end{equation}\n",
        "\\begin{equation}\n",
        "a_0 = c_0 = \\frac{2}{\\pi}.\n",
        "\\end{equation}\n",
        "\n",
        "\\begin{equation}\n",
        "b_n = \\frac{2}{2\\pi}\\int^{\\pi}_{-\\pi}{\\vert\\sin(t)\\vert\\sin(n\\omega_o t)}dt=0\\\\\n",
        "\\end{equation}\n",
        "\n",
        "Compacta.\n",
        "\\begin{equation}\n",
        "d_n = \\sqrt{a_n^2+b_n^2} = 2|c_n| = \\frac{2}{\\pi(n^2-1)}; \\quad n > 0\n",
        "\\end{equation}\n",
        "\\begin{equation}\n",
        "d_0 = a_0=\\frac{2}{\\pi};  \n",
        "\\end{equation}\n",
        "\n",
        "\\begin{equation}\n",
        "\\phi_n = \\tan^{-1}\\biggr(\\frac{-b_n}{a_n}\\biggr)=\\tan^{-1}\\biggr(\\frac{0}{a_n}\\biggr)=\\tan^{-1}(0)=0; \\quad n \\geq 0\n",
        "\\end{equation}\n",
        "\n",
        "Error.\n",
        "\\begin{equation}\n",
        "\\frac{E_r[\\%]}{100}=1-\\biggr(\\frac{C_0}{P_x}+\\frac{2P_n}{P_x}\\sum^5_{n=1}\\vert C_n\\vert\\biggr)\\\\\n",
        "P_x = \\int^{\\pi}_{-\\pi}{|\\vert\\sin(t)\\vert^2|dt}=\\pi, \\quad P_n = \\int^{\\pi}_{-\\pi}{\\vert\\varphi_n(t)\\vert^2dt}=T=2\\pi\\\\\n",
        "\\frac{E_r[\\%]}{100}=1-\\frac{2P_n}{P_x}\\sum^5_{n=1}\\frac{1}{\\pi(n^2-1)}=1-\\frac{4\\pi}{\\pi}\\sum^5_{n=1}\\frac{1}{\\pi(n^2-1)}\\\\\n",
        "\\sum^5_{n=1}\\frac{1}{\\pi(n^2-1)}=1.463611111\\\\\n",
        "E_r[\\%]=\\biggr(1-\\frac{12\\pi}{2\\pi^3}(1.463611111)\\biggr)*100=11.02\\%\\\\\n",
        "\\end{equation}"
      ]
    },
    {
      "cell_type": "markdown",
      "metadata": {
        "id": "zn3mRR8-Qqn1",
        "colab_type": "text"
      },
      "source": [
        "2. Sea $x''(t)$ la segunda derivada de la señal $x(t)$, donde $t\\in [t_i, t_f]$. Demuestre que los coeficientes de la serie exponencial de Fourier se pueden calcular según:  ́\n",
        "\\begin{equation}\n",
        "C_n=\\frac{1}{(t_i − t_f)n^2\\omega_0^2}\\int^{t_f}_{t_i}x''(t)e^{−jn\\omega_ot}dt; n \\in \\mathbb{Z}\n",
        "\\end{equation}\n",
        "\n",
        "  ¿Cómo se pueden calcular los coeficientes $an$ y $bn$ desde $x''(t)$ en la serie trigonometrica de Fourier?\n",
        "##Solución\n",
        "Si tenemos que \n",
        "\\begin{equation}\n",
        "x(t)=\\sum_{-\\infty}^{\\infty}C_n e^{jn\\omega_ot}\\\\\n",
        "\\frac{\\partial x(t)}{\\partial t}=x'(t)=(jn\\omega_o)\\sum_{-\\infty}^{\\infty}C_n e^{jn\\omega_ot}\\\\\n",
        "\\frac{\\partial^2 x(t)}{\\partial t^2}=x''(t)=(jn\\omega_o)^2\\sum_{-\\infty}^{\\infty}C_n e^{jn\\omega_ot}\\\\\n",
        "\\frac{\\partial^h x(t)}{\\partial t^h}=x^{'h}(t)=(jn\\omega_o)^h\\sum_{-\\infty}^{\\infty}C_n e^{jn\\omega_ot}\\\\\n",
        "x''(t)=(jn\\omega_o)^2x(t)\\\\\n",
        "x(t)=\\frac{x''(t)}{-n^2\\omega_0^2}\\\\\n",
        "C_n=\\frac{1}{T}\\int^{t_f}_{t_i}x(t)e^{−jn\\omega_ot}dt\\Rightarrow \\frac{1}{T}\\int^{t_f}_{t_i}\\frac{x''(t)}{-n^2\\omega_0^2}e^{−jn\\omega_ot}dt;\\quad T=t_f-t_i\\\\\n",
        "C_n=\\frac{1}{-(t_f − t_i)n^2\\omega_0^2}\\int^{t_f}_{t_i}x''(t)e^{−jn\\omega_ot}dt\\Rightarrow C_n=\\frac{1}{(t_i − t_f)n^2\\omega_0^2}\\int^{t_f}_{t_i}x''(t)e^{−jn\\omega_ot}dt\\\\\n",
        "\\end{equation}\n",
        "\n",
        "Trigonométrica.\n",
        "\\begin{equation}\n",
        "a_n = \\frac{2}{(t_i − t_f)n^2\\omega_0^2}\\int^{t_f}_{t_i}x''(t)\\cos(n\\omega_o t)dt; \\quad \\forall n > 0\\\\\n",
        "a_0 = c_0 = 0\n",
        "\\end{equation}\n",
        "\n",
        "\\begin{equation}\n",
        "b_n = \\frac{2}{(t_i − t_f)n^2\\omega_0^2}\\int^{t_f}_{t_i}x''(t)\\sin(n\\omega_o t)dt; \\quad\\forall n > 0\\\\\n",
        "b_0 = 0\n",
        "\\end{equation}\n",
        "\n"
      ]
    },
    {
      "cell_type": "markdown",
      "metadata": {
        "id": "iFoAgF8rw8RL",
        "colab_type": "text"
      },
      "source": [
        "3. Encuentre el espectro de Fourier, su magnitud y el error cuadrático medio de la representación para $n\\in\\{0, \\pm1, \\pm2, \\pm3, \\pm4, \\pm5\\}$, a partir de $x''(t)$ para la señal $x(t)$ en la figura 1. Compruebe el espectro obtenido con la estimación a partir de  $x(t)$ mediante una simulación en Python.\n",
        "\n",
        "##Solución\n",
        "\n",
        "Si se divide la gráfica en 5 partes, se puede cnstruir la figura de la siguiente forma:\n",
        "\n",
        "\\begin{equation}\n",
        "\\boxed{x''(t) = \\begin{cases} 0, & -T/2\\leq t\\leq-d_2 \\\\ \\frac{A}{d_2-d_1}(t+d_2), & -d_2\\leq t\\leq-d_1 \\\\ A, & -d_1\\leq t\\leq d_1 \\\\ \\frac{A}{d_1-d_2}(t-d_2), & d_1\\leq t\\leq d_2 \\\\ 0, & d_2\\leq t\\leq T/2 \\end{cases}}\\\\\n",
        "\\end{equation}"
      ]
    },
    {
      "cell_type": "markdown",
      "metadata": {
        "id": "e33MNNVJxNfc",
        "colab_type": "text"
      },
      "source": [
        "4. ¿Como se puede simplificar el cálculo de la serie trigonométrica de Fourier para señales con simetría de media onda y de cuarto de onda? En dichos casos ¿cómo se pueden calcular los coeficientes $a_n$ y $b_n$ con $n\\in \\mathbb{N}$?\n",
        "##Solución\n",
        "\n",
        "###*   Simetría de media onda:\n",
        "Consiste en que una función cumpla que $f(t)=-f(t\\pm T/2)$. O gráficamente, que al invertirla verticalmente y desplazarla medio periodo, esta sigue siendo parte de la onda original. Esta solo da un valor con n impar.\n",
        "\n",
        "En series trigonométricas de Fourier tenemos que si una función tiene simetría de media onda, entonces:\n",
        "\\begin{equation} \n",
        "a_n= \\begin{cases} 0,& \\mod_2(n)=0 \\\\ \\frac{4}{T}\\int^{\\frac{T}{2}}_{0}x(t)\\cos(n\\omega_o t)dt, & \\mod_2(n)=1 \\end{cases}\\\\\n",
        "b_n= \\begin{cases} 0,& \\mod_2(n)=0 \\\\ \\frac{4}{T}\\int^{\\frac{T}{2}}_{0}x(t)\\sin(n\\omega_o t)dt, & \\mod_2(n)=1 \\end{cases}\n",
        "\\end{equation}\n",
        "\n",
        "###*   Simetría de cuarto de onda par:\n",
        "Esta simetría la cumplen las ondas que tengan simetría de media onda y además tengan simetría par.\n",
        "\\begin{equation} \n",
        "a_n= \\begin{cases} 0,& \\mod_2(n)=0 \\\\ \\frac{8}{T}\\int^{\\frac{T}{4}}_{0}x(t)\\cos(n\\omega_o t)dt, & \\mod_2(n)=1 \\end{cases}\\\\\n",
        "b_n= 0\n",
        "\\end{equation}\n",
        "###*   Simetría de cuarto de onda impar:\n",
        "Esta simetría la cumplen las ondas que tengan simetría de media onda y además tengan simetría impar.\n",
        "\\begin{equation} \n",
        "a_n= 0\\\\\n",
        "b_n= \\begin{cases} 0,& \\mod_2(n)=0 \\\\ \\frac{8}{T}\\int^{\\frac{T}{4}}_{0}x(t)\\sin(n\\omega_o t)dt, & \\mod_2(n)=1 \\end{cases}\n",
        "\\end{equation}\n"
      ]
    },
    {
      "cell_type": "markdown",
      "metadata": {
        "id": "mwzINKquxRRZ",
        "colab_type": "text"
      },
      "source": [
        "#4. Transformada de Fourier\n",
        "1. Explique las semejanzas y diferencias entre la serie de Fourier (exponencial, trigonométrica y compacta) y la transformada de Fourier. Considere las diferentes combinaciones entre: espectro continuo y discreto y señal en tiempo continuo y discreto. Además, consulte en qué consiste el algoritmo Fast Fourier Transform - (FFT) y su utilidad para el cálculo de la transformada discreta de Fourier. Compruebe los resultados obtenidos en el punto 1 utilizando la FFT en Python.\n",
        "##Solución\n"
      ]
    },
    {
      "cell_type": "markdown",
      "metadata": {
        "id": "SUInaLfYxuMI",
        "colab_type": "text"
      },
      "source": [
        "2. Encuentre la funcion de densidad espectral (transformada de Fourier) para las siguientes señales:\n",
        "\\begin{equation}\n",
        "a) e^{−a\\vert t\\vert}, a\\in \\mathbb{R^+}\\\\\n",
        "b) \\cos(\\omega_ct), \\omega_c\\in \\mathbb{R}\\\\\n",
        "c) \\sin(\\omega_st), \\omega_s\\in \\mathbb{R}\\\\\n",
        "d) f(t)\\cos(\\omega_st), \\omega_s\\in\\mathbb{R}, f(t)\\in\\mathbb{R,C}\\\\\n",
        "e) e^{−a\\vert t\\vert^2}, a\\in \\mathbb{R^+}\\\\\n",
        "\\end{equation}\n",
        "##Solución"
      ]
    },
    {
      "cell_type": "markdown",
      "metadata": {
        "id": "MzQN6C9Px17K",
        "colab_type": "text"
      },
      "source": [
        "3. Aplique las propiedades de la transformada de\n",
        "Fourier para resolver: \n",
        "\\begin{equation}\n",
        "a) \\mathscr{F}\\{e^{−j\\omega_1t}\\cos(\\omega_ct)\\}, \\omega_1, \\omega_c\\in \\mathbb{R}\\\\\n",
        "b) \\mathscr{F}\\{u(t)\\cos^2(\\omega_ct)\\}, \\omega_c\\in\\mathbb{R}\\\\\n",
        "c)\\mathscr{F}^{-1}\\biggr \\{\\frac{7}{\\omega^2+6\\omega+45}∗\\frac{10}{(8+j\\omega/3)^2 }\\biggr \\}\\\\\n",
        "d) \\mathscr{F}\\{3t^3\\}\\\\\n",
        "e) \\frac{B}{T}\\sum_{-\\infty}^{\\infty}\\biggr(\\frac{1}{a^2+(\\omega−n\\omega_o)^2}+\\frac{1}{a+j(\\omega−n\\omega_o)}\\biggr), n\\in\\{0, ±1, ±2, \\dots\\}, \\omega_o=\\frac{2\\pi}{T} \\quad\\&\\quad B,T\\in\\mathbb{R^+}\n",
        "\\end{equation}\n",
        "##Solución"
      ]
    },
    {
      "cell_type": "markdown",
      "metadata": {
        "id": "wHyUfsWix5e5",
        "colab_type": "text"
      },
      "source": [
        "4. Consulte en que consiste la distorsión total de armónicos (Total Harmonic Distortion-(THD)) y el factor de potencia en un circuito electrico. Cómo puede calcularse el THD desde la FFT? ¿Cómo puede calcularse el factor de potencia con base al THD? Genere un ejemplo ilustrativo en su software\n",
        "de preferencia para el cálculo del THD y el factor de potencia para un rectificador de media onda con carga:\n",
        "\n",
        " i) Netamente resistiva.\\\n",
        " ii) Carga RC en paralelo.\n",
        "\n",
        "Establezca las condiciones necesarias para las simulaciones y pruebe con diferentes valores de R y C. Discuta los resultados obtenidos.\n",
        "##Solución\n"
      ]
    }
  ]
}